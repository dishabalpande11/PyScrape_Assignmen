{
  "nbformat": 4,
  "nbformat_minor": 0,
  "metadata": {
    "colab": {
      "name": "Disha_PyScrape.ipynb",
      "provenance": [],
      "collapsed_sections": [],
      "authorship_tag": "ABX9TyOsEzEUnn+fHUSxrtGXeKua",
      "include_colab_link": true
    },
    "kernelspec": {
      "name": "python3",
      "display_name": "Python 3"
    }
  },
  "cells": [
    {
      "cell_type": "markdown",
      "metadata": {
        "id": "view-in-github",
        "colab_type": "text"
      },
      "source": [
        "<a href=\"https://colab.research.google.com/github/DishaBalpande/PyScrape_Assignment/blob/master/Disha_PyScrape.ipynb\" target=\"_parent\"><img src=\"https://colab.research.google.com/assets/colab-badge.svg\" alt=\"Open In Colab\"/></a>"
      ]
    },
    {
      "cell_type": "code",
      "metadata": {
        "id": "tNuDI8ch7gLT",
        "colab_type": "code",
        "colab": {}
      },
      "source": [
        "from bs4 import BeautifulSoup as soup\n",
        "import re\n",
        "import requests\n",
        "import pandas as pd"
      ],
      "execution_count": 0,
      "outputs": []
    },
    {
      "cell_type": "code",
      "metadata": {
        "id": "D_A4zXjK7z_n",
        "colab_type": "code",
        "colab": {}
      },
      "source": [
        "url = \"https://www.mysmartprice.com/mobile/pricelist/samsung-mobile-price-list-in-india.html\""
      ],
      "execution_count": 0,
      "outputs": []
    },
    {
      "cell_type": "code",
      "metadata": {
        "id": "evbVeSmq73ol",
        "colab_type": "code",
        "colab": {}
      },
      "source": [
        "html = requests.get(url)\n",
        "bs = soup(html.text,'html.parser')\n",
        "html.close() \n"
      ],
      "execution_count": 0,
      "outputs": []
    },
    {
      "cell_type": "code",
      "metadata": {
        "id": "Wmh8TwfD74VJ",
        "colab_type": "code",
        "colab": {}
      },
      "source": [
        "li_class = bs.find_all('li',{'class':\"prdct-item clearfix card\"})\n"
      ],
      "execution_count": 0,
      "outputs": []
    },
    {
      "cell_type": "code",
      "metadata": {
        "id": "sSK6r41Q75s2",
        "colab_type": "code",
        "colab": {}
      },
      "source": [
        "data = []\n",
        "l = bs.find('a',{'class' : \"pgntn__item\",'data-pgno':\"2\"},'Next')\n",
        "for j in range(6):\n",
        "    html = requests.get(url)\n",
        "    bs = soup(html.text,'html.parser')\n",
        "    html.close()\n",
        "    li_class = bs.find_all('li',{'class':\"prdct-item clearfix card\"})\n",
        "    data1 = []\n",
        "    for i in range(len(li_class)):\n",
        "        model = li_class[i].find('a',{\"class\":\"prdct-item__name\"}).get_text()\n",
        "        price = li_class[i].find(\"span\",{\"class\":\"prdct-item__prc-val\"}).get_text()\n",
        "        data1.append((model, price))\n",
        "\n",
        "    l = bs.findAll(\"a\",{'class' : 'pgntn__item','data-pgno':\"2\"},\"Next\")[-1]\n",
        "    url = l[\"href\"]\n",
        "    data.extend(data1)"
      ],
      "execution_count": 0,
      "outputs": []
    },
    {
      "cell_type": "code",
      "metadata": {
        "id": "rqi6aNP88OHs",
        "colab_type": "code",
        "colab": {}
      },
      "source": [
        "result =  pd.DataFrame(data,columns = (\"Phone_Name\",\"Price\"))"
      ],
      "execution_count": 0,
      "outputs": []
    },
    {
      "cell_type": "code",
      "metadata": {
        "id": "p99bi-V88OWE",
        "colab_type": "code",
        "colab": {
          "base_uri": "https://localhost:8080/",
          "height": 206
        },
        "outputId": "3d124623-14f8-4f01-8f8a-3b020ef85f56"
      },
      "source": [
        "result.head()"
      ],
      "execution_count": 15,
      "outputs": [
        {
          "output_type": "execute_result",
          "data": {
            "text/html": [
              "<div>\n",
              "<style scoped>\n",
              "    .dataframe tbody tr th:only-of-type {\n",
              "        vertical-align: middle;\n",
              "    }\n",
              "\n",
              "    .dataframe tbody tr th {\n",
              "        vertical-align: top;\n",
              "    }\n",
              "\n",
              "    .dataframe thead th {\n",
              "        text-align: right;\n",
              "    }\n",
              "</style>\n",
              "<table border=\"1\" class=\"dataframe\">\n",
              "  <thead>\n",
              "    <tr style=\"text-align: right;\">\n",
              "      <th></th>\n",
              "      <th>Phone_Name</th>\n",
              "      <th>Price</th>\n",
              "    </tr>\n",
              "  </thead>\n",
              "  <tbody>\n",
              "    <tr>\n",
              "      <th>0</th>\n",
              "      <td>Samsung Galaxy A50</td>\n",
              "      <td>12,999</td>\n",
              "    </tr>\n",
              "    <tr>\n",
              "      <th>1</th>\n",
              "      <td>Samsung Galaxy M30s</td>\n",
              "      <td>12,999</td>\n",
              "    </tr>\n",
              "    <tr>\n",
              "      <th>2</th>\n",
              "      <td>Samsung Galaxy A30</td>\n",
              "      <td>12,999</td>\n",
              "    </tr>\n",
              "    <tr>\n",
              "      <th>3</th>\n",
              "      <td>Samsung Galaxy M30</td>\n",
              "      <td>11,999</td>\n",
              "    </tr>\n",
              "    <tr>\n",
              "      <th>4</th>\n",
              "      <td>Samsung Galaxy A10</td>\n",
              "      <td>7,990</td>\n",
              "    </tr>\n",
              "  </tbody>\n",
              "</table>\n",
              "</div>"
            ],
            "text/plain": [
              "              Phone_Name   Price\n",
              "0    Samsung Galaxy A50   12,999\n",
              "1   Samsung Galaxy M30s   12,999\n",
              "2    Samsung Galaxy A30   12,999\n",
              "3    Samsung Galaxy M30   11,999\n",
              "4    Samsung Galaxy A10    7,990"
            ]
          },
          "metadata": {
            "tags": []
          },
          "execution_count": 15
        }
      ]
    },
    {
      "cell_type": "code",
      "metadata": {
        "id": "PXUZDuks77HR",
        "colab_type": "code",
        "colab": {}
      },
      "source": [
        "result.to_csv(\"Disha_PyScrape.csv\",index = False)"
      ],
      "execution_count": 0,
      "outputs": []
    },
    {
      "cell_type": "code",
      "metadata": {
        "id": "M3gX5mJO8UHp",
        "colab_type": "code",
        "colab": {}
      },
      "source": [
        ""
      ],
      "execution_count": 0,
      "outputs": []
    }
  ]
}